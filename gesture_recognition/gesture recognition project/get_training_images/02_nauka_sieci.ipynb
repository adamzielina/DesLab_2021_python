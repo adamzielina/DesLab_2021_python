{
 "cells": [
  {
   "cell_type": "code",
   "execution_count": 3,
   "id": "877f0437",
   "metadata": {
    "scrolled": true
   },
   "outputs": [
    {
     "name": "stdout",
     "output_type": "stream",
     "text": [
      "Epoch 1/8\n",
      "35/35 [==============================] - 9s 245ms/step - loss: 0.6870 - accuracy: 0.5815 - val_loss: 0.6729 - val_accuracy: 0.6722\n",
      "Epoch 2/8\n",
      "35/35 [==============================] - 9s 248ms/step - loss: 0.6489 - accuracy: 0.6905 - val_loss: 0.6109 - val_accuracy: 0.7694\n",
      "Epoch 3/8\n",
      "35/35 [==============================] - 10s 274ms/step - loss: 0.5398 - accuracy: 0.7601 - val_loss: 0.4523 - val_accuracy: 0.8208\n",
      "Epoch 4/8\n",
      "35/35 [==============================] - 9s 266ms/step - loss: 0.4384 - accuracy: 0.8155 - val_loss: 0.3812 - val_accuracy: 0.8500\n",
      "Epoch 5/8\n",
      "35/35 [==============================] - 10s 278ms/step - loss: 0.3610 - accuracy: 0.8488 - val_loss: 0.3218 - val_accuracy: 0.8806\n",
      "Epoch 6/8\n",
      "35/35 [==============================] - 9s 243ms/step - loss: 0.3052 - accuracy: 0.8768 - val_loss: 0.2891 - val_accuracy: 0.8875\n",
      "Epoch 7/8\n",
      "35/35 [==============================] - 9s 266ms/step - loss: 0.2495 - accuracy: 0.9048 - val_loss: 0.2621 - val_accuracy: 0.8986\n",
      "Epoch 8/8\n",
      "35/35 [==============================] - 9s 263ms/step - loss: 0.2051 - accuracy: 0.9196 - val_loss: 0.2393 - val_accuracy: 0.9097\n"
     ]
    },
    {
     "data": {
      "text/plain": [
       "<tensorflow.python.keras.callbacks.History at 0x2e70d0eec40>"
      ]
     },
     "execution_count": 3,
     "metadata": {},
     "output_type": "execute_result"
    }
   ],
   "source": [
    "import numpy as np\n",
    "import cv2\n",
    "import os\n",
    "import matplotlib.pyplot as plt\n",
    "import tensorflow as tf\n",
    "\n",
    "from tensorflow.keras.models import Sequential\n",
    "from tensorflow.keras.layers import Dense, Dropout, Activation, Flatten, Conv2D, MaxPooling2D\n",
    "\n",
    "import pickle\n",
    "\n",
    "\n",
    "\n",
    "X = pickle.load(open(\"X.pickle\", \"rb\"))\n",
    "y = pickle.load(open(\"y.pickle\", \"rb\"))\n",
    "\n",
    "X = X/255.0\n",
    "\n",
    "model = Sequential()\n",
    "\n",
    "model.add( Conv2D(32, (3,3), input_shape = X.shape[1:]) ) #warstwa \"splotowa\" 64? potem okno 3x3 \n",
    "model.add(Activation(\"relu\"))\n",
    "model.add(MaxPooling2D(pool_size=(2,2))) #2x2 rozmiar\n",
    "\n",
    "\n",
    "\n",
    "\n",
    "model.add( Conv2D(16, (3,3)) ) #warstwa \"splotowa\" 16 potem okno 3x3 \n",
    "model.add(Activation(\"relu\"))\n",
    "model.add(MaxPooling2D(pool_size=(2,2))) #2x2 rozmiar \n",
    "\n",
    "\n",
    "model.add( Conv2D(8, (3,3)) ) #warstwa \"splotowa\" 8 potem okno 3x3 \n",
    "model.add(Activation(\"relu\"))\n",
    "model.add(MaxPooling2D(pool_size=(2,2))) #2x2 rozmiar\n",
    "\n",
    "\n",
    "model.add( Conv2D(4, (3,3)) ) #warstwa \"splotowa\" 4 potem okno 3x3 \n",
    "model.add(Activation(\"relu\"))\n",
    "model.add(MaxPooling2D(pool_size=(2,2))) #2x2 rozmiar\n",
    "\n",
    "\n",
    "model.add( Conv2D(2, (3,3)) ) #warstwa \"splotowa\" 2 potem okno 3x3 \n",
    "model.add(Activation(\"relu\"))\n",
    "model.add(MaxPooling2D(pool_size=(2,2))) #2x2 rozmiar\n",
    "\n",
    "#przed dense powinnismy \"wygladziic\" dane, conv dziala na 2D danych, Dense na 1D\n",
    "model.add(Flatten())\n",
    "model.add(Dense(12))\n",
    "model.add(Activation(\"relu\"))\n",
    "\n",
    "#przed dense powinnismy \"wygladziic\" dane, conv dziala na 2D danych, Dense na 1D\n",
    "model.add(Flatten())\n",
    "model.add(Dense(1))\n",
    "model.add(Activation(\"sigmoid\"))\n",
    "\n",
    "model.compile(loss=\"binary_crossentropy\",\n",
    "             optimizer=\"adam\",\n",
    "             metrics= ['accuracy'])\n",
    "\n",
    "model.fit(X, y, batch_size = 48, epochs = 8, validation_split = 0.3) # batch size to ilosc podawanych próbek w jednym czasie \n"
   ]
  },
  {
   "cell_type": "code",
   "execution_count": 4,
   "id": "21300cd7",
   "metadata": {},
   "outputs": [
    {
     "name": "stdout",
     "output_type": "stream",
     "text": [
      "INFO:tensorflow:Assets written to: upvsdown2.model\\assets\n"
     ]
    }
   ],
   "source": [
    "model.save(\"upvsdown2.model\")"
   ]
  },
  {
   "cell_type": "code",
   "execution_count": null,
   "id": "8200bdf3",
   "metadata": {},
   "outputs": [],
   "source": []
  }
 ],
 "metadata": {
  "kernelspec": {
   "display_name": "Python 3 (ipykernel)",
   "language": "python",
   "name": "python3"
  },
  "language_info": {
   "codemirror_mode": {
    "name": "ipython",
    "version": 3
   },
   "file_extension": ".py",
   "mimetype": "text/x-python",
   "name": "python",
   "nbconvert_exporter": "python",
   "pygments_lexer": "ipython3",
   "version": "3.8.12"
  }
 },
 "nbformat": 4,
 "nbformat_minor": 5
}
